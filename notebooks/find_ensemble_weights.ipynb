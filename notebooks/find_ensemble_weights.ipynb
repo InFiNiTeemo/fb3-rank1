{
 "cells": [
  {
   "cell_type": "code",
   "execution_count": 1,
   "id": "f67c788f",
   "metadata": {
    "pycharm": {
     "name": "#%%\n"
    }
   },
   "outputs": [],
   "source": [
    "import pandas as pd\n",
    "import sys\n",
    "sys.path.append('../src')\n",
    "\n",
    "from utils import load_filepaths\n",
    "from ensemble.pseudolabels_ensemble import make_modelwise_submission_ensemble\n",
    "\n",
    "import os\n",
    "import numpy as np\n",
    "import scipy\n",
    "from tqdm.notebook import tqdm\n",
    "\n",
    "from ensemble import get_oofs_filenames, filter_filenames\n",
    "from ensemble import get_merged_predictions, get_oofs_scores, print_scores, print_model_score\n",
    "from criterion.score import get_score"
   ]
  },
  {
   "cell_type": "code",
   "execution_count": 2,
   "id": "9f34de4e",
   "metadata": {
    "pycharm": {
     "name": "#%%\n"
    }
   },
   "outputs": [],
   "source": [
    "filepaths = load_filepaths()"
   ]
  },
  {
   "cell_type": "markdown",
   "id": "0cfe9dd1",
   "metadata": {
    "pycharm": {
     "name": "#%% md\n"
    }
   },
   "source": [
    "### Ensemble 44631 pseudolabels"
   ]
  },
  {
   "cell_type": "code",
   "execution_count": 4,
   "id": "c681555a",
   "metadata": {
    "pycharm": {
     "name": "#%%\n"
    }
   },
   "outputs": [
    {
     "data": {
      "text/plain": [
       "True"
      ]
     },
     "execution_count": 4,
     "metadata": {},
     "output_type": "execute_result"
    }
   ],
   "source": [
    "model_weights = {\n",
    "    'model20': 0.6,\n",
    "    'model19': 0.25,\n",
    "    'model18': 0.15\n",
    "}\n",
    "\n",
    "# pseudolabels_path = filepaths['PREVIOUS_DATA_PSEUDOLABELS_DIR_PATH']\n",
    "# output_dir = os.path.join(pseudolabels_path, 'model_20_19_18_pseudolabels_test')\n",
    "#\n",
    "# make_modelwise_submission_ensemble(pseudolabels_path=pseudolabels_path,\n",
    "#                                    model_weights=model_weights,\n",
    "#                                    output_dir=output_dir)"
   ]
  },
  {
   "cell_type": "markdown",
   "id": "1ce630a0",
   "metadata": {
    "pycharm": {
     "name": "#%% md\n"
    }
   },
   "source": [
    "### Ensemble 4459 pseudolabels"
   ]
  },
  {
   "cell_type": "code",
   "execution_count": null,
   "id": "94f93ad2",
   "metadata": {
    "pycharm": {
     "name": "#%%\n"
    }
   },
   "outputs": [],
   "source": [
    "model_weights = {\n",
    "    'model21': 0.5,\n",
    "    'model20': 0.275,\n",
    "    'model19': 0.125,\n",
    "    'model18': 0.1\n",
    "}\n",
    "\n",
    "# pseudolabels_path = filepaths['PREVIOUS_DATA_PSEUDOLABELS_DIR_PATH']\n",
    "# output_dir = os.path.join(pseudolabels_path, 'model_20_19_18_pseudolabels_test')\n",
    "#\n",
    "# make_modelwise_submission_ensemble(pseudolabels_path=pseudolabels_path,\n",
    "#                                    model_weights=model_weights,\n",
    "#                                    output_dir=output_dir)"
   ]
  },
  {
   "cell_type": "markdown",
   "id": "f8561556",
   "metadata": {
    "pycharm": {
     "name": "#%% md\n"
    }
   },
   "source": [
    "### Ensemble 4449 pseudolabels"
   ]
  },
  {
   "cell_type": "code",
   "execution_count": null,
   "id": "50e987ad",
   "metadata": {
    "pycharm": {
     "name": "#%%\n"
    }
   },
   "outputs": [],
   "source": [
    "model_weights = {\n",
    "    'model17': 0.10891375279,\n",
    "    'model18': 0.01085920545,\n",
    "    'model19': 0.00193970403,\n",
    "    'model20': 0.04376893255,\n",
    "    'model21': 0.11835317182,\n",
    "    'model22': 0.01386750842,\n",
    "    'model23': 0.32875780112,\n",
    "    'model24': 0.18492612482,\n",
    "    'model29': 0.18861379895,\n",
    "}\n",
    "\n",
    "# pseudolabels_path = filepaths['PREVIOUS_DATA_PSEUDOLABELS_DIR_PATH']\n",
    "# output_dir = os.path.join(pseudolabels_path, '')\n",
    "#\n",
    "# make_modelwise_submission_ensemble(pseudolabels_path=pseudolabels_path,\n",
    "#                                    model_weights=model_weights,\n",
    "#                                    output_dir=output_dir)"
   ]
  },
  {
   "cell_type": "markdown",
   "id": "b0ecb64f",
   "metadata": {
    "pycharm": {
     "name": "#%% md\n"
    }
   },
   "source": [
    "### Ensemble 4448 pseudolabels"
   ]
  },
  {
   "cell_type": "code",
   "execution_count": null,
   "id": "6f3b75dd",
   "metadata": {
    "pycharm": {
     "name": "#%%\n"
    }
   },
   "outputs": [],
   "source": [
    "model_weights = {\n",
    " 'model17': 0.10822125192240414,\n",
    " 'model18': 0.0,\n",
    " 'model19': 0.0,\n",
    " 'model20': 0.01027712179022292,\n",
    " 'model21': 0.08334036355017828,\n",
    " 'model22': 0.02274617932455912,\n",
    " 'model23': 0.21521827833060778,\n",
    " 'model24': 0.13176402908375676,\n",
    " 'model29': 0.17266452988372935,\n",
    " 'model30': 0.2549639506239497\n",
    "}\n",
    "\n",
    "# pseudolabels_path = filepaths['PREVIOUS_DATA_PSEUDOLABELS_DIR_PATH']\n",
    "# output_dir = os.path.join(pseudolabels_path, '')\n",
    "#\n",
    "# make_modelwise_submission_ensemble(pseudolabels_path=pseudolabels_path,\n",
    "#                                    model_weights=model_weights,\n",
    "#                                    output_dir=output_dir)"
   ]
  },
  {
   "cell_type": "markdown",
   "id": "2d05d6b1",
   "metadata": {
    "pycharm": {
     "name": "#%% md\n"
    }
   },
   "source": [
    "### Ensemble 4447 pseudolabels"
   ]
  },
  {
   "cell_type": "code",
   "execution_count": null,
   "id": "73bf22fb",
   "metadata": {
    "pycharm": {
     "name": "#%%\n"
    }
   },
   "outputs": [],
   "source": [
    "model_weights = {\n",
    " 'model17': 0.0962165959606631,\n",
    " 'model18': 3.3316650416041794e-17,\n",
    " 'model19': 0.0,\n",
    " 'model20': 9.03994642832288e-18,\n",
    " 'model21': 0.08655741486749564,\n",
    " 'model22': 9.974659986866641e-18,\n",
    " 'model23': 0.17080959770461437,\n",
    " 'model24': 0.0004322681398924201,\n",
    " 'model29': 0.12217267050944432,\n",
    " 'model30': 0.10167456460974643,\n",
    " 'model31': 0.2153011130526323,\n",
    " 'model32': 0.20563589072767532}\n",
    "\n",
    "\n",
    "# pseudolabels_path = filepaths['PREVIOUS_DATA_PSEUDOLABELS_DIR_PATH']\n",
    "# output_dir = os.path.join(pseudolabels_path, '')\n",
    "#\n",
    "# make_modelwise_submission_ensemble(pseudolabels_path=pseudolabels_path,\n",
    "#                                    model_weights=model_weights,\n",
    "#                                    output_dir=output_dir)"
   ]
  },
  {
   "cell_type": "markdown",
   "id": "78e63e81",
   "metadata": {
    "pycharm": {
     "name": "#%% md\n"
    }
   },
   "source": [
    "### Ensemble 44439 pseudolabels"
   ]
  },
  {
   "cell_type": "code",
   "execution_count": null,
   "id": "afda91d3",
   "metadata": {
    "pycharm": {
     "name": "#%%\n"
    }
   },
   "outputs": [],
   "source": [
    "model_weights = {\n",
    "    'model2': 0.12080487996851937,\n",
    "    'model17': 0,\n",
    "    'model18': 0, \n",
    "    'model19': 0, \n",
    "    'model20': 0.002515966147924016,\n",
    "    'model21': 0.06066129221356339, \n",
    "    'model22': 0.004367412946160462, \n",
    "    'model23': 0.22956412946160462, \n",
    "    'model24': 0, \n",
    "    'model27': 0.024874241779985446, \n",
    "    'model28': 0.0015581526028578495, \n",
    "    'model29': 0.02924511095662808, \n",
    "    'model30': 0.12292821031369401, \n",
    "    'model31': 0.11962654518496374, \n",
    "    'model32': 0.13369399467504667, \n",
    "    'model33': 0, \n",
    "    'model34': 0, \n",
    "    'model35': 0.14939736107378382,  \n",
    "}\n",
    "\n",
    "\n",
    "# pseudolabels_path = filepaths['PREVIOUS_DATA_PSEUDOLABELS_DIR_PATH']\n",
    "# output_dir = os.path.join(pseudolabels_path, '')\n",
    "#\n",
    "# make_modelwise_submission_ensemble(pseudolabels_path=pseudolabels_path,\n",
    "#                                    model_weights=model_weights,\n",
    "#                                    output_dir=output_dir)"
   ]
  },
  {
   "cell_type": "markdown",
   "id": "53c38757",
   "metadata": {
    "pycharm": {
     "name": "#%% md\n"
    }
   },
   "source": [
    "### Ensemble 444371 pseudolabels"
   ]
  },
  {
   "cell_type": "code",
   "execution_count": null,
   "id": "30a3c9e7",
   "metadata": {
    "pycharm": {
     "name": "#%%\n"
    }
   },
   "outputs": [],
   "source": [
    "model_weights = {\n",
    "    'model2': 0.104568927986581,\n",
    "    'model17': 0,\n",
    "    'model18': 0, \n",
    "    'model19': 0, \n",
    "    'model20': 0.00396867158276209, \n",
    "    'model21': 0.07197941480535167, \n",
    "    'model22': 0., \n",
    "    'model23': 0.20794739304083878, \n",
    "    'model24': 0.001224549812895024, \n",
    "    'model27': 0.014124900674815893, \n",
    "    'model28': 0., \n",
    "    'model29': 0.02283341828675994, \n",
    "    'model30': 0.1266942077585073, \n",
    "    'model31': 0.07299788992081675, \n",
    "    'model32': 0.13555597715368523, \n",
    "    'model33': 0., \n",
    "    'model34': 0., \n",
    "    'model35': 0.05330993459916873,  \n",
    "    'model36': 0.08066604837747007,  \n",
    "    'model37': 0.10330986929079802,  \n",
    "}\n",
    "\n",
    "#\n",
    "# pseudolabels_path = filepaths['PREVIOUS_DATA_PSEUDOLABELS_DIR_PATH']\n",
    "# output_dir = os.path.join(pseudolabels_path, '')\n",
    "#\n",
    "# make_modelwise_submission_ensemble(pseudolabels_path=pseudolabels_path,\n",
    "#                                    model_weights=model_weights,\n",
    "#                                    output_dir=output_dir)"
   ]
  },
  {
   "cell_type": "markdown",
   "id": "0f5aeec6",
   "metadata": {
    "pycharm": {
     "name": "#%% md\n"
    }
   },
   "source": [
    "### Ensemble 444335 pseudolabels"
   ]
  },
  {
   "cell_type": "code",
   "execution_count": null,
   "id": "80021d4f",
   "metadata": {
    "pycharm": {
     "name": "#%%\n"
    }
   },
   "outputs": [],
   "source": [
    "model_weights = {\n",
    "     'model2': 0.1029042833387868,\n",
    "     'model17': 0.0,\n",
    "     'model18': 1.9058659460380317e-17,\n",
    "     'model19': 0.0,\n",
    "     'model20': 4.2536623615725803e-19,\n",
    "     'model21': 0.07518296172317124,\n",
    "     'model22': 0.0,\n",
    "     'model23': 0.1964491406113391,\n",
    "     'model24': 1.857472786034887e-18,\n",
    "     'model27': 6.5052130349130266e-18,\n",
    "     'model28': 0.0,\n",
    "     'model29': 0.006570626757716589,\n",
    "     'model30': 0.1261884004753692,\n",
    "     'model31': 0.08625332610586658,\n",
    "     'model32': 0.07773571046756915,\n",
    "     'model33': 3.469446951953614e-18,\n",
    "     'model34': 0.0004872993659464684,\n",
    "     'model35': 0.021777790638685145,\n",
    "     'model36': 0.0759830773537634,\n",
    "     'model37': 0.09247660399523161,\n",
    "     'model38': 1.3612939556721994e-18,\n",
    "     'model39': 0.08872012240370862,\n",
    "     'model40': 2.5410540923128933e-18,\n",
    "     'model41': 0.0,\n",
    "     'model43': 0.048674170418083196,\n",
    "     'model44': 0.0 \n",
    "}\n",
    "\n",
    "\n",
    "# pseudolabels_path = filepaths['PREVIOUS_DATA_PSEUDOLABELS_DIR_PATH']\n",
    "# output_dir = os.path.join(pseudolabels_path, '')\n",
    "#\n",
    "# make_modelwise_submission_ensemble(pseudolabels_path=pseudolabels_path,\n",
    "#                                    model_weights=model_weights,\n",
    "#                                    output_dir=output_dir)"
   ]
  },
  {
   "cell_type": "markdown",
   "id": "ef054666",
   "metadata": {
    "pycharm": {
     "name": "#%% md\n"
    }
   },
   "source": [
    "### Model-level ensemble"
   ]
  },
  {
   "cell_type": "code",
   "execution_count": 25,
   "id": "466fec40",
   "metadata": {
    "pycharm": {
     "name": "#%%\n"
    }
   },
   "outputs": [],
   "source": [
    "def get_model_level_score_to_minimize_all(x0):\n",
    "    scores = []\n",
    "    predictions = train_df[target_columns].copy()\n",
    "    predictions[target_columns] = 0\n",
    "    for col in target_columns:\n",
    "        for fn, w in zip(model_names, x0):\n",
    "            predictions[col] += train_df['pred_'+col+'_'+fn] * w\n",
    "    score, scores_all = get_score(train_df[target_columns].values, predictions[target_columns].values)\n",
    "    return score\n",
    "\n",
    "\n",
    "def get_columns_level_score_to_minimize_all(x0, col):\n",
    "    scores = []\n",
    "    predictions = train_df[target_columns].copy()\n",
    "    predictions[target_columns] = 0\n",
    "    for fn, w in zip(model_names, x0):\n",
    "        predictions[col] += train_df['pred_'+col+'_'+fn] * w\n",
    "    score = mean_squared_error(train_df[col].values, predictions[col].values, squared=False)\n",
    "    return score\n",
    "\n",
    "\n",
    "def get_all_columns_to_target_to_minimize_all(x0, col):\n",
    "    scores = []\n",
    "    predictions = train_df[target_columns].copy()\n",
    "    predictions[target_columns] = 0\n",
    "    for fn, w in zip(feature_names, x0):\n",
    "        predictions[col] += train_df[fn] * w\n",
    "    score = mean_squared_error(train_df[col].values, predictions[col].values, squared=False)\n",
    "    return score\n",
    "\n",
    "\n",
    "def get_model_level_weights():\n",
    "    model_weights = np.random.dirichlet(np.ones(len(model_names)),size=1)[0]\n",
    "    result = scipy.optimize.minimize(get_model_level_score_to_minimize_all,\n",
    "                                     x0=model_weights,\n",
    "                                     options=opt,\n",
    "                                     bounds=bounds,\n",
    "                                     method='SLSQP',)\n",
    "    w_ = result.x\n",
    "    weights = {model:w for model, w in zip(model_names, w_)}\n",
    "    score = result.fun\n",
    "\n",
    "    return score, weights\n",
    "\n",
    "\n",
    "def get_column_level_weights(col):\n",
    "    model_weights = np.random.dirichlet(np.ones(len(model_names)),size=1)[0]\n",
    "    result = scipy.optimize.minimize(get_columns_level_score_to_minimize_all,\n",
    "                                     x0=model_weights,\n",
    "                                     args=(col,),\n",
    "                                     options=opt,\n",
    "                                     bounds=bounds,\n",
    "                                     method='SLSQP',)\n",
    "\n",
    "    w_ = result.x\n",
    "    weights = {model:w for model, w in zip(model_names, w_)}\n",
    "    score = result.fun\n",
    "    return score, weights\n",
    "\n",
    "\n",
    "def get_all_columns_to_target_weights(col):\n",
    "    feature_weights = np.random.dirichlet(np.ones(len(feature_names)),size=1)[0]\n",
    "    result = scipy.optimize.minimize(get_all_columns_to_target_to_minimize_all,\n",
    "                                     x0=feature_weights,\n",
    "                                     args=(col,),\n",
    "                                     options=opt,\n",
    "                                     bounds=feature_bounds,\n",
    "                                     method='SLSQP',)\n",
    "\n",
    "    w_ = result.x\n",
    "    weights = {model:w for model, w in zip(feature_names, w_)}\n",
    "    score = result.fun\n",
    "    return score, weights"
   ]
  },
  {
   "cell_type": "code",
   "execution_count": 26,
   "id": "cb767cfd",
   "metadata": {
    "pycharm": {
     "name": "#%%\n"
    }
   },
   "outputs": [],
   "source": [
    "oofs_filenames = get_oofs_filenames(dir_path=filepaths['OOFS_DIR_PATH'])\n",
    "train_df = get_merged_predictions(train_csv_path=filepaths['TRAIN_CSV_PATH'],\n",
    "                                   oofs_dir_path=filepaths['OOFS_DIR_PATH'])\n",
    "\n",
    "target_columns = ['cohesion', 'syntax', 'vocabulary', 'phraseology', 'grammar', 'conventions']\n",
    "\n",
    "oofs_scores = get_oofs_scores(train_df, oofs_filenames, target_columns, criterion=get_score)"
   ]
  },
  {
   "cell_type": "code",
   "execution_count": 82,
   "id": "2d599326",
   "metadata": {
    "pycharm": {
     "name": "#%%\n"
    }
   },
   "outputs": [],
   "source": [
    "model_names = [\n",
    "    'model2',\n",
    "    'model17',\n",
    "    'model18',\n",
    "    'model19',\n",
    "    'model20',\n",
    "    'model21',\n",
    "    'model22',\n",
    "    'model23',\n",
    "    'model24',\n",
    "    'model27',\n",
    "    'model28',\n",
    "    'model29',\n",
    "    'model30',\n",
    "    'model31',\n",
    "    'model32',\n",
    "    'model33',\n",
    "    'model34',\n",
    "    'model35',\n",
    "    'model36',\n",
    "    'model37',\n",
    "    'model38',\n",
    "    'model39',\n",
    "    'model40',\n",
    "    'model41',\n",
    "#     'model42',\n",
    "    'model43',\n",
    "    'model44'\n",
    "]\n",
    "\n",
    "opt = {'disp': False, 'maxiter': 20000}\n",
    "\n",
    "bounds = scipy.optimize.Bounds(lb=[0 for i in model_names],\n",
    "                               ub=[1 if i != 'model55' else 0.35 for i in model_names])"
   ]
  },
  {
   "cell_type": "code",
   "execution_count": 84,
   "id": "3a3bd7a4",
   "metadata": {
    "pycharm": {
     "name": "#%%\n"
    }
   },
   "outputs": [
    {
     "data": {
      "application/json": {
       "ascii": false,
       "bar_format": null,
       "colour": null,
       "elapsed": 0.043009042739868164,
       "initial": 0,
       "n": 0,
       "ncols": null,
       "nrows": 29,
       "postfix": null,
       "prefix": "",
       "rate": null,
       "total": 10,
       "unit": "it",
       "unit_divisor": 1000,
       "unit_scale": false
      },
      "application/vnd.jupyter.widget-view+json": {
       "model_id": "2cc28b06bbc143beb6093adda5a0403a",
       "version_major": 2,
       "version_minor": 0
      },
      "text/plain": [
       "  0%|          | 0/10 [00:00<?, ?it/s]"
      ]
     },
     "metadata": {},
     "output_type": "display_data"
    }
   ],
   "source": [
    "best_score = 1\n",
    "best_weight = {}\n",
    "\n",
    "for _ in tqdm(range(10)):\n",
    "    score, weights = get_model_level_weights()\n",
    "    \n",
    "    if score < best_score:\n",
    "        best_score = score\n",
    "        best_weight = weights"
   ]
  },
  {
   "cell_type": "markdown",
   "id": "0a497d6c",
   "metadata": {
    "pycharm": {
     "name": "#%% md\n"
    }
   },
   "source": [
    "### Ensemble"
   ]
  },
  {
   "cell_type": "code",
   "execution_count": 110,
   "id": "7456b44a",
   "metadata": {
    "pycharm": {
     "name": "#%%\n"
    }
   },
   "outputs": [
    {
     "name": "stdout",
     "output_type": "stream",
     "text": [
      "Weights sum:  0.9992372973247314\n",
      "Weights score:  0.4443991408529822\n"
     ]
    }
   ],
   "source": [
    "model_weights = {\n",
    "    'model2': 0.12080487996851937,\n",
    "    'model17': 0,\n",
    "    'model18': 0, \n",
    "    'model19': 0, \n",
    "    'model20': 0.002515966147924016, \n",
    "    'model21': 0.06066129221356339, \n",
    "    'model22': 0.004367412946160462, \n",
    "    'model23': 0.22956412946160462, \n",
    "    'model24': 0, \n",
    "    'model27': 0.024874241779985446, \n",
    "    'model28': 0.0015581526028578495, \n",
    "    'model29': 0.02924511095662808, \n",
    "    'model30': 0.12292821031369401, \n",
    "    'model31': 0.11962654518496374, \n",
    "    'model32': 0.13369399467504667, \n",
    "    'model33': 0, \n",
    "    'model34': 0, \n",
    "    'model35': 0.14939736107378382,  \n",
    "}\n",
    "\n",
    "weights = model_weights\n",
    "\n",
    "predictions = train_df[target_columns].copy()\n",
    "predictions[target_columns] = 0\n",
    "for col in target_columns:\n",
    "    for fn, w in weights.items():\n",
    "        predictions[col] += train_df['pred_'+col+'_'+fn] * w\n",
    "score, scores_all = get_score(train_df[target_columns].values, predictions[target_columns].values)\n",
    "\n",
    "print('Weights sum: ', sum(list(weights.values())))\n",
    "print('Weights score: ', score)"
   ]
  },
  {
   "cell_type": "code",
   "execution_count": null,
   "id": "d40ab165",
   "metadata": {
    "pycharm": {
     "name": "#%%\n"
    }
   },
   "outputs": [],
   "source": []
  },
  {
   "cell_type": "markdown",
   "id": "cb75b93f",
   "metadata": {
    "pycharm": {
     "name": "#%% md\n"
    }
   },
   "source": [
    "### Column level ensemble"
   ]
  },
  {
   "cell_type": "markdown",
   "id": "5e6883dd",
   "metadata": {
    "pycharm": {
     "name": "#%% md\n"
    }
   },
   "source": [
    "### Ensemble 4419"
   ]
  },
  {
   "cell_type": "code",
   "execution_count": 16,
   "id": "a4916954",
   "metadata": {
    "pycharm": {
     "name": "#%%\n"
    }
   },
   "outputs": [],
   "source": [
    "model_weights = {'cohesion': {'model2': 0.0,\n",
    "                                   'model17': 1.3641303991688677e-18,\n",
    "                                   'model18': 3.3687184734861214e-18,\n",
    "                                   'model19': 2.35113150999648e-18,\n",
    "                                   'model20': 0.0,\n",
    "                                   'model21': 0.014721199316359353,\n",
    "                                   'model22': 0.20079267640478035,\n",
    "                                   'model23': 0.10727387089983963,\n",
    "                                   'model24': 1.4571673548843897e-18,\n",
    "                                   'model27': 0.0,\n",
    "                                   'model28': 0.0,\n",
    "                                   'model29': 0.04321860279406503,\n",
    "                                   'model30': 0.0,\n",
    "                                   'model31': 0.15261620075515803,\n",
    "                                   'model32': 0.0,\n",
    "                                   'model33': 0.02726037390160297,\n",
    "                                   'model34': 1.3615815440454913e-20,\n",
    "                                   'model35': 0.0,\n",
    "                                   'model36': 0.0,\n",
    "                                   'model37': 0.0,\n",
    "                                   'model38': 5.4158895657244366e-18,\n",
    "                                   'model39': 0.0,\n",
    "                                   'model40': 1.860853272557901e-18,\n",
    "                                   'model41': 2.3550298541923315e-18,\n",
    "                                   'model43': 0.0,\n",
    "                                   'model44': 0.0,\n",
    "                                   'model45': 6.732399217305961e-19,\n",
    "                                   'model46': 0.0,\n",
    "                                   'model47': 2.8946693581574397e-18,\n",
    "                                   'model48': 0.0,\n",
    "                                   'model49': 0.08490032272754919,\n",
    "                                   'model50': 0.0,\n",
    "                                   'exp01_fb3': 0.0010949994243920824,\n",
    "                                   'exp01_fb3_part2': 2.2434177521021126e-18,\n",
    "                                   'exp02_fb3': 0.0726923366270686,\n",
    "                                   'exp02_fb3_part2_distilbart': 0.007237901334420236,\n",
    "                                   'exp02_fb3_part2_distilbert': 0.03455879417868948,\n",
    "                                   'exp03_fb3': 1.5437240657547322e-19,\n",
    "                                   'exp04_fb3': 0.043031824405246936,\n",
    "                                   'exp12_fb3': 0.012011623224385225,\n",
    "                                   'exp13_fb3': 0.06440109372972913,\n",
    "                                   'exp14_fb3_deberta': 0.0198808828346093,\n",
    "                                   'exp14_fb3_roberta': 0.11267501305350522},\n",
    "                      'syntax': {'model2': 0.0,\n",
    "                                 'model17': 1.734723475976807e-18,\n",
    "                                 'model18': 0.0,\n",
    "                                 'model19': 4.290871407780592e-19,\n",
    "                                 'model20': 0.03419437366866644,\n",
    "                                 'model21': 0.1621238531338363,\n",
    "                                 'model22': 2.006322991748364e-18,\n",
    "                                 'model23': 0.1160414494705781,\n",
    "                                 'model24': 0.0,\n",
    "                                 'model27': 0.0,\n",
    "                                 'model28': 0.04468067771630145,\n",
    "                                 'model29': 0.0,\n",
    "                                 'model30': 0.0,\n",
    "                                 'model31': 7.985004705580017e-18,\n",
    "                                 'model32': 6.4293462147500905e-18,\n",
    "                                 'model33': 4.1444423669479873e-19,\n",
    "                                 'model34': 0.0,\n",
    "                                 'model35': 0.0,\n",
    "                                 'model36': 6.208155622140726e-18,\n",
    "                                 'model37': 0.05531490985121265,\n",
    "                                 'model38': 6.015386165335163e-19,\n",
    "                                 'model39': 3.563162343550345e-18,\n",
    "                                 'model40': 2.584740732259664e-19,\n",
    "                                 'model41': 3.70880069133413e-21,\n",
    "                                 'model43': 0.0038943403140923112,\n",
    "                                 'model44': 0.0,\n",
    "                                 'model45': 0.0,\n",
    "                                 'model46': 1.2915975153876891e-18,\n",
    "                                 'model47': 0.0,\n",
    "                                 'model48': 0.0,\n",
    "                                 'model49': 5.9264284748402e-19,\n",
    "                                 'model50': 0.0,\n",
    "                                 'exp01_fb3': 0.0,\n",
    "                                 'exp01_fb3_part2': 0.09423395310886282,\n",
    "                                 'exp02_fb3': 0.10103229579773294,\n",
    "                                 'exp02_fb3_part2_distilbart': 0.0,\n",
    "                                 'exp02_fb3_part2_distilbert': 1.236070928715173e-19,\n",
    "                                 'exp03_fb3': 0.05026367797777125,\n",
    "                                 'exp04_fb3': 0.08142772437504354,\n",
    "                                 'exp12_fb3': 0.054632911276372306,\n",
    "                                 'exp13_fb3': 0.10922481001240171,\n",
    "                                 'exp14_fb3_deberta': 0.0,\n",
    "                                 'exp14_fb3_roberta': 0.09160329705548483},\n",
    "                      'vocabulary': {'model2': 6.384581712459615e-18,\n",
    "                                     'model17': 0.0,\n",
    "                                     'model18': 0.0,\n",
    "                                     'model19': 3.363060494262179e-19,\n",
    "                                     'model20': 0.0,\n",
    "                                     'model21': 0.0,\n",
    "                                     'model22': 0.0,\n",
    "                                     'model23': 0.15151296054051305,\n",
    "                                     'model24': 0.0,\n",
    "                                     'model27': 9.540979117872439e-18,\n",
    "                                     'model28': 0.0,\n",
    "                                     'model29': 0.0,\n",
    "                                     'model30': 0.11111887475408921,\n",
    "                                     'model31': 1.017773877800927e-17,\n",
    "                                     'model32': 0.12930318094216392,\n",
    "                                     'model33': 0.0,\n",
    "                                     'model34': 0.0,\n",
    "                                     'model35': 0.0,\n",
    "                                     'model36': 0.0,\n",
    "                                     'model37': 8.464107105309035e-19,\n",
    "                                     'model38': 0.0,\n",
    "                                     'model39': 0.030982732857463224,\n",
    "                                     'model40': 8.730541746025401e-19,\n",
    "                                     'model41': 0.0,\n",
    "                                     'model43': 0.06299261994832991,\n",
    "                                     'model44': 2.0558298615489533e-18,\n",
    "                                     'model45': 1.430788180522078e-18,\n",
    "                                     'model46': 5.6107462426124854e-18,\n",
    "                                     'model47': 0.0,\n",
    "                                     'model48': 2.079844836422999e-18,\n",
    "                                     'model49': 0.0,\n",
    "                                     'model50': 5.113870540624896e-19,\n",
    "                                     'exp01_fb3': 0.0,\n",
    "                                     'exp01_fb3_part2': 0.0,\n",
    "                                     'exp02_fb3': 0.11591427762755883,\n",
    "                                     'exp02_fb3_part2_distilbart': 0.032512192260639956,\n",
    "                                     'exp02_fb3_part2_distilbert': 0.012237994247405837,\n",
    "                                     'exp03_fb3': 0.03132175809822703,\n",
    "                                     'exp04_fb3': 0.08313984648412528,\n",
    "                                     'exp12_fb3': 0.12170917967553489,\n",
    "                                     'exp13_fb3': 0.05967899610352756,\n",
    "                                     'exp14_fb3_deberta': 0.015818441570440357,\n",
    "                                     'exp14_fb3_roberta': 0.04178084716540002},\n",
    "                      'phraseology': {'model2': 0.061881001168637303,\n",
    "                                      'model17': 1.362926360355619e-18,\n",
    "                                      'model18': 0.0,\n",
    "                                      'model19': 2.8535932787121293e-18,\n",
    "                                      'model20': 0.0,\n",
    "                                      'model21': 7.14753724821551e-18,\n",
    "                                      'model22': 0.0,\n",
    "                                      'model23': 0.08725123253206267,\n",
    "                                      'model24': 9.270763313379683e-19,\n",
    "                                      'model27': 1.1693805745033369e-18,\n",
    "                                      'model28': 2.173169471139076e-18,\n",
    "                                      'model29': 0.0,\n",
    "                                      'model30': 0.0788119343114915,\n",
    "                                      'model31': 0.0,\n",
    "                                      'model32': 0.002363552255962262,\n",
    "                                      'model33': 1.2356697873140099e-18,\n",
    "                                      'model34': 4.2658844213293216e-19,\n",
    "                                      'model35': 0.0,\n",
    "                                      'model36': 5.421010862427522e-19,\n",
    "                                      'model37': 0.0,\n",
    "                                      'model38': 2.2862213791092874e-18,\n",
    "                                      'model39': 7.912096156176944e-20,\n",
    "                                      'model40': 0.050759096717978874,\n",
    "                                      'model41': 1.7603243955161548e-18,\n",
    "                                      'model43': 0.025591136694847093,\n",
    "                                      'model44': 0.0,\n",
    "                                      'model45': 0.0,\n",
    "                                      'model46': 0.0,\n",
    "                                      'model47': 4.0880205125975284e-19,\n",
    "                                      'model48': 1.4049467362816434e-18,\n",
    "                                      'model49': 1.1948309598070998e-18,\n",
    "                                      'model50': 1.653260234299397e-18,\n",
    "                                      'exp01_fb3': 2.7733638123011357e-18,\n",
    "                                      'exp01_fb3_part2': 0.13110749023836157,\n",
    "                                      'exp02_fb3': 0.018897104991641992,\n",
    "                                      'exp02_fb3_part2_distilbart': 0.03985037310976023,\n",
    "                                      'exp02_fb3_part2_distilbert': 0.052104546030576,\n",
    "                                      'exp03_fb3': 1.6410002556183483e-18,\n",
    "                                      'exp04_fb3': 0.2869354561758461,\n",
    "                                      'exp12_fb3': 0.04195254942891115,\n",
    "                                      'exp13_fb3': 0.12144418876602656,\n",
    "                                      'exp14_fb3_deberta': 0.000620852697738587,\n",
    "                                      'exp14_fb3_roberta': 0.0},\n",
    "                      'grammar': {'model2': 9.080250388890479e-18,\n",
    "                                  'model17': 2.0634939360973545e-18,\n",
    "                                  'model18': 1.9767107116602035e-18,\n",
    "                                  'model19': 0.0,\n",
    "                                  'model20': 0.0,\n",
    "                                  'model21': 0.05858274048806288,\n",
    "                                  'model22': 1.3023529903539446e-18,\n",
    "                                  'model23': 0.06851055940284298,\n",
    "                                  'model24': 7.126553420297553e-18,\n",
    "                                  'model27': 4.756212570122803e-19,\n",
    "                                  'model28': 1.0519000963689585e-17,\n",
    "                                  'model29': 0.0,\n",
    "                                  'model30': 0.0,\n",
    "                                  'model31': 0.0,\n",
    "                                  'model32': 1.667373442397137e-18,\n",
    "                                  'model33': 0.0,\n",
    "                                  'model34': 0.0,\n",
    "                                  'model35': 0.014386516923729055,\n",
    "                                  'model36': 0.01602923044602552,\n",
    "                                  'model37': 0.0,\n",
    "                                  'model38': 0.0632552136055105,\n",
    "                                  'model39': 0.0,\n",
    "                                  'model40': 0.0,\n",
    "                                  'model41': 2.307494908013121e-18,\n",
    "                                  'model43': 0.0026822888246185467,\n",
    "                                  'model44': 0.0,\n",
    "                                  'model45': 0.23047446295313717,\n",
    "                                  'model46': 1.4563320421899575e-19,\n",
    "                                  'model47': 0.0,\n",
    "                                  'model48': 0.0284030791866702,\n",
    "                                  'model49': 0.0,\n",
    "                                  'model50': 1.265480985157968e-18,\n",
    "                                  'exp01_fb3': 0.0,\n",
    "                                  'exp01_fb3_part2': 0.23375101401803414,\n",
    "                                  'exp02_fb3': 0.042024852615124626,\n",
    "                                  'exp02_fb3_part2_distilbart': 0.027760075178077666,\n",
    "                                  'exp02_fb3_part2_distilbert': 0.003586179954204018,\n",
    "                                  'exp03_fb3': 0.0,\n",
    "                                  'exp04_fb3': 0.0,\n",
    "                                  'exp12_fb3': 0.0014210081478568258,\n",
    "                                  'exp13_fb3': 0.13387900083046145,\n",
    "                                  'exp14_fb3_deberta': 0.07427526019738938,\n",
    "                                  'exp14_fb3_roberta': 2.231943155272213e-18},\n",
    "                      'conventions': {'model2': 0.0,\n",
    "                                      'model17': 1.0611962407261138e-17,\n",
    "                                      'model18': 4.091194453525049e-18,\n",
    "                                      'model19': 3.1796999780611212e-18,\n",
    "                                      'model20': 0.05421467691981856,\n",
    "                                      'model21': 0.11235702311902371,\n",
    "                                      'model22': 0.03685431192438295,\n",
    "                                      'model23': 0.08348152741662603,\n",
    "                                      'model24': 6.705392197469761e-18,\n",
    "                                      'model27': 0.0,\n",
    "                                      'model28': 0.0,\n",
    "                                      'model29': 2.2565293333723027e-18,\n",
    "                                      'model30': 0.03711650173217246,\n",
    "                                      'model31': 0.07960785607315367,\n",
    "                                      'model32': 0.0,\n",
    "                                      'model33': 5.854734912756549e-20,\n",
    "                                      'model34': 6.534591974053476e-19,\n",
    "                                      'model35': 2.2707543095078078e-18,\n",
    "                                      'model36': 1.781157642930368e-18,\n",
    "                                      'model37': 0.0004151450021269716,\n",
    "                                      'model38': 2.3250822209596838e-18,\n",
    "                                      'model39': 8.084792747254291e-18,\n",
    "                                      'model40': 0.0,\n",
    "                                      'model41': 0.0,\n",
    "                                      'model43': 0.0,\n",
    "                                      'model44': 1.8084786498765856e-18,\n",
    "                                      'model45': 0.026210720906841286,\n",
    "                                      'model46': 0.0,\n",
    "                                      'model47': 5.86831289833729e-18,\n",
    "                                      'model48': 0.0,\n",
    "                                      'model49': 1.3025745570576695e-18,\n",
    "                                      'model50': 0.0,\n",
    "                                      'exp01_fb3': 1.7163569512729368e-18,\n",
    "                                      'exp01_fb3_part2': 0.3307626748306759,\n",
    "                                      'exp02_fb3': 4.622663978172529e-18,\n",
    "                                      'exp02_fb3_part2_distilbart': 0.009619658189335517,\n",
    "                                      'exp02_fb3_part2_distilbert': 0.014871211144167468,\n",
    "                                      'exp03_fb3': 0.06376301869148857,\n",
    "                                      'exp04_fb3': 0.028266178548082305,\n",
    "                                      'exp12_fb3': 0.04133052338175039,\n",
    "                                      'exp13_fb3': 0.03381778391813708,\n",
    "                                      'exp14_fb3_deberta': 0.0,\n",
    "                                      'exp14_fb3_roberta': 0.04863975850957641}}\n",
    "\n",
    "\n"
   ]
  },
  {
   "cell_type": "markdown",
   "id": "86d23875",
   "metadata": {
    "pycharm": {
     "name": "#%% md\n"
    }
   },
   "source": [
    "### current_train_ensemble_4434"
   ]
  },
  {
   "cell_type": "code",
   "execution_count": null,
   "id": "37c5352f",
   "metadata": {
    "pycharm": {
     "name": "#%%\n"
    }
   },
   "outputs": [],
   "source": [
    "model_weights = {'cohesion': {'model21': 0.0,\n",
    "                                                 'model23': 0.16857263892568816,\n",
    "                                                 'model30': 5.6466451698871394e-18,\n",
    "                                                 'model31': 0.12849541458592756,\n",
    "                                                 'model37': 0.03751041415777451,\n",
    "                                                 'model43': 0.07091293069690112,\n",
    "                                                 'model45': 9.608947831724199e-19,\n",
    "                                                 'model52': 0.5922561202068483},\n",
    "                                    'syntax': {'model21': 0.2983559500041119,\n",
    "                                               'model23': 0.039662915900296386,\n",
    "                                               'model30': 3.6904749955145715e-17,\n",
    "                                               'model31': 0.0,\n",
    "                                               'model37': 0.13482866262881374,\n",
    "                                               'model43': 0.04065192941186354,\n",
    "                                               'model45': 0.0,\n",
    "                                               'model52': 0.48574664922632727},\n",
    "                                    'vocabulary': {'model21': 3.7173705316985325e-18,\n",
    "                                                   'model23': 0.22752938119344748,\n",
    "                                                   'model30': 0.22659113445015197,\n",
    "                                                   'model31': 1.4990253051788373e-18,\n",
    "                                                   'model37': 0.07948298439524726,\n",
    "                                                   'model43': 0.10250239273559535,\n",
    "                                                   'model45': 2.66102757507777e-18,\n",
    "                                                   'model52': 0.36390845133777716},\n",
    "                                    'phraseology': {'model21': 2.0637794141115326e-18,\n",
    "                                                    'model23': 0.14103588237240658,\n",
    "                                                    'model30': 0.0928342567553126,\n",
    "                                                    'model31': 1.571572127235293e-18,\n",
    "                                                    'model37': 0.08452575674341647,\n",
    "                                                    'model43': 0.07343995419462711,\n",
    "                                                    'model45': 0.0,\n",
    "                                                    'model52': 0.6081277882951115},\n",
    "                                    'grammar': {'model21': 0.10336485339119193,\n",
    "                                                'model23': 0.0,\n",
    "                                                'model30': 0.042336648911786706,\n",
    "                                                'model31': 2.5720590269845573e-19,\n",
    "                                                'model37': 0.10176675182405476,\n",
    "                                                'model43': 1.0297838170757434e-19,\n",
    "                                                'model45': 0.0777058421524695,\n",
    "                                                'model52': 0.6731450757163463},\n",
    "                                    'conventions': {'model21': 0.020538210645085504,\n",
    "                                                    'model23': 0.19011204334494136,\n",
    "                                                    'model30': 0.0007462543700502877,\n",
    "                                                    'model31': 0.03245091359272288,\n",
    "                                                    'model37': 0.06218846281441917,\n",
    "                                                    'model43': 0.0,\n",
    "                                                    'model45': 9.687721117741096e-18,\n",
    "                                                    'model52': 0.6922934794192225}}"
   ]
  },
  {
   "cell_type": "code",
   "execution_count": null,
   "id": "29ceaf44",
   "metadata": {
    "pycharm": {
     "name": "#%%\n"
    }
   },
   "outputs": [],
   "source": []
  },
  {
   "cell_type": "code",
   "execution_count": null,
   "id": "b12dd254",
   "metadata": {
    "pycharm": {
     "name": "#%%\n"
    }
   },
   "outputs": [],
   "source": []
  },
  {
   "cell_type": "code",
   "execution_count": 6,
   "id": "f721dd37",
   "metadata": {
    "pycharm": {
     "name": "#%%\n"
    }
   },
   "outputs": [],
   "source": [
    "from ensemble.weighted_ensembler import WeightedModelsEnsembler"
   ]
  },
  {
   "cell_type": "code",
   "execution_count": 17,
   "id": "82fbb42a",
   "metadata": {
    "pycharm": {
     "name": "#%%\n"
    }
   },
   "outputs": [],
   "source": [
    "model_names = [\n",
    "#     'model2',\n",
    "#     'model17',\n",
    "#     'model18',\n",
    "#     'model19',\n",
    "#     'model20',\n",
    "#     'model21',\n",
    "#     'model22',\n",
    "    'model23',\n",
    "#     'model24',\n",
    "#     'model27',\n",
    "#     'model28',\n",
    "#     'model29',\n",
    "#     'model30',\n",
    "#     'model31',\n",
    "#     'model32',\n",
    "#     'model33',\n",
    "#     'model34',\n",
    "#     'model35',\n",
    "#     'model36',\n",
    "#     'model37',\n",
    "#     'model38',\n",
    "#     'model39',\n",
    "#     'model40',\n",
    "#     'model41',\n",
    "#     'model43',\n",
    "#     'model44',\n",
    "#     'model45',\n",
    "#     'model46',\n",
    "#     'model47',\n",
    "#     'model48',\n",
    "#     'model49',\n",
    "#     'model50',\n",
    "#     'model52',\n",
    "#     'model67',\n",
    "#     'model68',\n",
    "#     'model69',\n",
    "#     'model70',\n",
    "    \n",
    "#     'exp01_fb3',\n",
    "#     'exp01_fb3_part2',\n",
    "#     'exp02_fb3',\n",
    "#     'exp02_fb3_part2_distilbart',\n",
    "#     'exp02_fb3_part2_distilbert',\n",
    "#     'exp03_fb3',\n",
    "#     'exp04_fb3',\n",
    "#     'exp12_fb3',\n",
    "#     'exp13_fb3',\n",
    "    \n",
    "#     'exp14_fb3_deberta',\n",
    "#     'exp14_fb3_roberta',\n",
    "]\n",
    "\n",
    "options = {'disp': False, 'maxiter': 20000}\n",
    "\n",
    "bounds = scipy.optimize.Bounds(lb=[0 for i in model_names],\n",
    "                               ub=[1 if i != 'model55' else 0.35 for i in model_names])"
   ]
  },
  {
   "cell_type": "code",
   "execution_count": 18,
   "id": "e16bd426",
   "metadata": {
    "pycharm": {
     "name": "#%%\n"
    }
   },
   "outputs": [],
   "source": [
    "oofs_filenames = get_oofs_filenames(dir_path=filepaths['OOFS_DIR_PATH'])\n",
    "train_df = get_merged_predictions(train_csv_path=filepaths['TRAIN_CSV_PATH'],\n",
    "                                   oofs_dir_path=filepaths['OOFS_DIR_PATH'])\n",
    "\n",
    "target_columns = ['cohesion', 'syntax', 'vocabulary', 'phraseology', 'grammar', 'conventions']\n",
    "\n",
    "oofs_scores = get_oofs_scores(train_df, oofs_filenames, target_columns, criterion=get_score)"
   ]
  },
  {
   "cell_type": "code",
   "execution_count": 19,
   "id": "1e6fbb77",
   "metadata": {
    "pycharm": {
     "name": "#%%\n"
    }
   },
   "outputs": [
    {
     "data": {
      "text/plain": [
       "<ensemble.weighted_ensembler.WeightedModelsEnsembler at 0x1e7e8bc37c0>"
      ]
     },
     "execution_count": 19,
     "metadata": {},
     "output_type": "execute_result"
    }
   ],
   "source": [
    "weighted_ensembler = WeightedModelsEnsembler(model_names, target_columns, n_retries=20)\n",
    "weighted_ensembler.fit(train_df, options=options, bounds=bounds, method='SLSQP')"
   ]
  },
  {
   "cell_type": "code",
   "execution_count": 20,
   "id": "6cd83706",
   "metadata": {
    "pycharm": {
     "name": "#%%\n"
    }
   },
   "outputs": [
    {
     "data": {
      "text/plain": [
       "0.4459362418247144"
      ]
     },
     "execution_count": 20,
     "metadata": {},
     "output_type": "execute_result"
    }
   ],
   "source": [
    "weighted_ensembler.mean_score"
   ]
  },
  {
   "cell_type": "code",
   "execution_count": 21,
   "id": "5eba47d7",
   "metadata": {
    "pycharm": {
     "name": "#%%\n"
    }
   },
   "outputs": [
    {
     "data": {
      "text/plain": [
       "{'cohesion': {'model23': 0.997934687809723},\n",
       " 'syntax': {'model23': 1.0},\n",
       " 'vocabulary': {'model23': 1.0},\n",
       " 'phraseology': {'model23': 0.9978961184080558},\n",
       " 'grammar': {'model23': 0.9940444159631212},\n",
       " 'conventions': {'model23': 1.0}}"
      ]
     },
     "execution_count": 21,
     "metadata": {},
     "output_type": "execute_result"
    }
   ],
   "source": [
    "weighted_ensembler.weights"
   ]
  },
  {
   "cell_type": "code",
   "execution_count": 98,
   "id": "724135a6",
   "metadata": {
    "pycharm": {
     "name": "#%%\n"
    }
   },
   "outputs": [
    {
     "ename": "AttributeError",
     "evalue": "'WeightedModelsEnsembler' object has no attribute 'best_run_score'",
     "output_type": "error",
     "traceback": [
      "\u001B[1;31m---------------------------------------------------------------------------\u001B[0m",
      "\u001B[1;31mAttributeError\u001B[0m                            Traceback (most recent call last)",
      "Input \u001B[1;32mIn [98]\u001B[0m, in \u001B[0;36m<cell line: 1>\u001B[1;34m()\u001B[0m\n\u001B[1;32m----> 1\u001B[0m \u001B[43mweighted_ensembler\u001B[49m\u001B[38;5;241;43m.\u001B[39;49m\u001B[43mbest_run_score\u001B[49m\n",
      "\u001B[1;31mAttributeError\u001B[0m: 'WeightedModelsEnsembler' object has no attribute 'best_run_score'"
     ]
    }
   ],
   "source": [
    "weighted_ensembler.best_run_score"
   ]
  },
  {
   "cell_type": "code",
   "execution_count": 113,
   "id": "11b1c2f6",
   "metadata": {
    "pycharm": {
     "name": "#%%\n"
    }
   },
   "outputs": [],
   "source": []
  },
  {
   "cell_type": "code",
   "execution_count": 114,
   "id": "409cc348",
   "metadata": {
    "pycharm": {
     "name": "#%%\n"
    }
   },
   "outputs": [],
   "source": [
    "import json"
   ]
  },
  {
   "cell_type": "code",
   "execution_count": 117,
   "id": "7a0d1ef6",
   "metadata": {
    "pycharm": {
     "name": "#%%\n"
    }
   },
   "outputs": [
    {
     "ename": "JSONDecodeError",
     "evalue": "Expecting value: line 1 column 1 (char 0)",
     "output_type": "error",
     "traceback": [
      "\u001B[1;31m---------------------------------------------------------------------------\u001B[0m",
      "\u001B[1;31mJSONDecodeError\u001B[0m                           Traceback (most recent call last)",
      "Input \u001B[1;32mIn [117]\u001B[0m, in \u001B[0;36m<cell line: 1>\u001B[1;34m()\u001B[0m\n\u001B[0;32m      1\u001B[0m \u001B[38;5;28;01mwith\u001B[39;00m \u001B[38;5;28mopen\u001B[39m(\u001B[38;5;124m\"\u001B[39m\u001B[38;5;124m../data/ensemble_weights.json\u001B[39m\u001B[38;5;124m\"\u001B[39m, \u001B[38;5;124m\"\u001B[39m\u001B[38;5;124mr\u001B[39m\u001B[38;5;124m\"\u001B[39m) \u001B[38;5;28;01mas\u001B[39;00m file:\n\u001B[1;32m----> 2\u001B[0m     ensemble_weights \u001B[38;5;241m=\u001B[39m \u001B[43mjson\u001B[49m\u001B[38;5;241;43m.\u001B[39;49m\u001B[43mload\u001B[49m\u001B[43m(\u001B[49m\u001B[43mfile\u001B[49m\u001B[43m)\u001B[49m\n",
      "File \u001B[1;32mC:\\ProgramData\\Miniconda3\\lib\\json\\__init__.py:293\u001B[0m, in \u001B[0;36mload\u001B[1;34m(fp, cls, object_hook, parse_float, parse_int, parse_constant, object_pairs_hook, **kw)\u001B[0m\n\u001B[0;32m    274\u001B[0m \u001B[38;5;28;01mdef\u001B[39;00m \u001B[38;5;21mload\u001B[39m(fp, \u001B[38;5;241m*\u001B[39m, \u001B[38;5;28mcls\u001B[39m\u001B[38;5;241m=\u001B[39m\u001B[38;5;28;01mNone\u001B[39;00m, object_hook\u001B[38;5;241m=\u001B[39m\u001B[38;5;28;01mNone\u001B[39;00m, parse_float\u001B[38;5;241m=\u001B[39m\u001B[38;5;28;01mNone\u001B[39;00m,\n\u001B[0;32m    275\u001B[0m         parse_int\u001B[38;5;241m=\u001B[39m\u001B[38;5;28;01mNone\u001B[39;00m, parse_constant\u001B[38;5;241m=\u001B[39m\u001B[38;5;28;01mNone\u001B[39;00m, object_pairs_hook\u001B[38;5;241m=\u001B[39m\u001B[38;5;28;01mNone\u001B[39;00m, \u001B[38;5;241m*\u001B[39m\u001B[38;5;241m*\u001B[39mkw):\n\u001B[0;32m    276\u001B[0m     \u001B[38;5;124;03m\"\"\"Deserialize ``fp`` (a ``.read()``-supporting file-like object containing\u001B[39;00m\n\u001B[0;32m    277\u001B[0m \u001B[38;5;124;03m    a JSON document) to a Python object.\u001B[39;00m\n\u001B[0;32m    278\u001B[0m \n\u001B[1;32m   (...)\u001B[0m\n\u001B[0;32m    291\u001B[0m \u001B[38;5;124;03m    kwarg; otherwise ``JSONDecoder`` is used.\u001B[39;00m\n\u001B[0;32m    292\u001B[0m \u001B[38;5;124;03m    \"\"\"\u001B[39;00m\n\u001B[1;32m--> 293\u001B[0m     \u001B[38;5;28;01mreturn\u001B[39;00m loads(fp\u001B[38;5;241m.\u001B[39mread(),\n\u001B[0;32m    294\u001B[0m         \u001B[38;5;28mcls\u001B[39m\u001B[38;5;241m=\u001B[39m\u001B[38;5;28mcls\u001B[39m, object_hook\u001B[38;5;241m=\u001B[39mobject_hook,\n\u001B[0;32m    295\u001B[0m         parse_float\u001B[38;5;241m=\u001B[39mparse_float, parse_int\u001B[38;5;241m=\u001B[39mparse_int,\n\u001B[0;32m    296\u001B[0m         parse_constant\u001B[38;5;241m=\u001B[39mparse_constant, object_pairs_hook\u001B[38;5;241m=\u001B[39mobject_pairs_hook, \u001B[38;5;241m*\u001B[39m\u001B[38;5;241m*\u001B[39mkw)\n",
      "File \u001B[1;32mC:\\ProgramData\\Miniconda3\\lib\\json\\__init__.py:346\u001B[0m, in \u001B[0;36mloads\u001B[1;34m(s, cls, object_hook, parse_float, parse_int, parse_constant, object_pairs_hook, **kw)\u001B[0m\n\u001B[0;32m    341\u001B[0m     s \u001B[38;5;241m=\u001B[39m s\u001B[38;5;241m.\u001B[39mdecode(detect_encoding(s), \u001B[38;5;124m'\u001B[39m\u001B[38;5;124msurrogatepass\u001B[39m\u001B[38;5;124m'\u001B[39m)\n\u001B[0;32m    343\u001B[0m \u001B[38;5;28;01mif\u001B[39;00m (\u001B[38;5;28mcls\u001B[39m \u001B[38;5;129;01mis\u001B[39;00m \u001B[38;5;28;01mNone\u001B[39;00m \u001B[38;5;129;01mand\u001B[39;00m object_hook \u001B[38;5;129;01mis\u001B[39;00m \u001B[38;5;28;01mNone\u001B[39;00m \u001B[38;5;129;01mand\u001B[39;00m\n\u001B[0;32m    344\u001B[0m         parse_int \u001B[38;5;129;01mis\u001B[39;00m \u001B[38;5;28;01mNone\u001B[39;00m \u001B[38;5;129;01mand\u001B[39;00m parse_float \u001B[38;5;129;01mis\u001B[39;00m \u001B[38;5;28;01mNone\u001B[39;00m \u001B[38;5;129;01mand\u001B[39;00m\n\u001B[0;32m    345\u001B[0m         parse_constant \u001B[38;5;129;01mis\u001B[39;00m \u001B[38;5;28;01mNone\u001B[39;00m \u001B[38;5;129;01mand\u001B[39;00m object_pairs_hook \u001B[38;5;129;01mis\u001B[39;00m \u001B[38;5;28;01mNone\u001B[39;00m \u001B[38;5;129;01mand\u001B[39;00m \u001B[38;5;129;01mnot\u001B[39;00m kw):\n\u001B[1;32m--> 346\u001B[0m     \u001B[38;5;28;01mreturn\u001B[39;00m \u001B[43m_default_decoder\u001B[49m\u001B[38;5;241;43m.\u001B[39;49m\u001B[43mdecode\u001B[49m\u001B[43m(\u001B[49m\u001B[43ms\u001B[49m\u001B[43m)\u001B[49m\n\u001B[0;32m    347\u001B[0m \u001B[38;5;28;01mif\u001B[39;00m \u001B[38;5;28mcls\u001B[39m \u001B[38;5;129;01mis\u001B[39;00m \u001B[38;5;28;01mNone\u001B[39;00m:\n\u001B[0;32m    348\u001B[0m     \u001B[38;5;28mcls\u001B[39m \u001B[38;5;241m=\u001B[39m JSONDecoder\n",
      "File \u001B[1;32mC:\\ProgramData\\Miniconda3\\lib\\json\\decoder.py:337\u001B[0m, in \u001B[0;36mJSONDecoder.decode\u001B[1;34m(self, s, _w)\u001B[0m\n\u001B[0;32m    332\u001B[0m \u001B[38;5;28;01mdef\u001B[39;00m \u001B[38;5;21mdecode\u001B[39m(\u001B[38;5;28mself\u001B[39m, s, _w\u001B[38;5;241m=\u001B[39mWHITESPACE\u001B[38;5;241m.\u001B[39mmatch):\n\u001B[0;32m    333\u001B[0m     \u001B[38;5;124;03m\"\"\"Return the Python representation of ``s`` (a ``str`` instance\u001B[39;00m\n\u001B[0;32m    334\u001B[0m \u001B[38;5;124;03m    containing a JSON document).\u001B[39;00m\n\u001B[0;32m    335\u001B[0m \n\u001B[0;32m    336\u001B[0m \u001B[38;5;124;03m    \"\"\"\u001B[39;00m\n\u001B[1;32m--> 337\u001B[0m     obj, end \u001B[38;5;241m=\u001B[39m \u001B[38;5;28;43mself\u001B[39;49m\u001B[38;5;241;43m.\u001B[39;49m\u001B[43mraw_decode\u001B[49m\u001B[43m(\u001B[49m\u001B[43ms\u001B[49m\u001B[43m,\u001B[49m\u001B[43m \u001B[49m\u001B[43midx\u001B[49m\u001B[38;5;241;43m=\u001B[39;49m\u001B[43m_w\u001B[49m\u001B[43m(\u001B[49m\u001B[43ms\u001B[49m\u001B[43m,\u001B[49m\u001B[43m \u001B[49m\u001B[38;5;241;43m0\u001B[39;49m\u001B[43m)\u001B[49m\u001B[38;5;241;43m.\u001B[39;49m\u001B[43mend\u001B[49m\u001B[43m(\u001B[49m\u001B[43m)\u001B[49m\u001B[43m)\u001B[49m\n\u001B[0;32m    338\u001B[0m     end \u001B[38;5;241m=\u001B[39m _w(s, end)\u001B[38;5;241m.\u001B[39mend()\n\u001B[0;32m    339\u001B[0m     \u001B[38;5;28;01mif\u001B[39;00m end \u001B[38;5;241m!=\u001B[39m \u001B[38;5;28mlen\u001B[39m(s):\n",
      "File \u001B[1;32mC:\\ProgramData\\Miniconda3\\lib\\json\\decoder.py:355\u001B[0m, in \u001B[0;36mJSONDecoder.raw_decode\u001B[1;34m(self, s, idx)\u001B[0m\n\u001B[0;32m    353\u001B[0m     obj, end \u001B[38;5;241m=\u001B[39m \u001B[38;5;28mself\u001B[39m\u001B[38;5;241m.\u001B[39mscan_once(s, idx)\n\u001B[0;32m    354\u001B[0m \u001B[38;5;28;01mexcept\u001B[39;00m \u001B[38;5;167;01mStopIteration\u001B[39;00m \u001B[38;5;28;01mas\u001B[39;00m err:\n\u001B[1;32m--> 355\u001B[0m     \u001B[38;5;28;01mraise\u001B[39;00m JSONDecodeError(\u001B[38;5;124m\"\u001B[39m\u001B[38;5;124mExpecting value\u001B[39m\u001B[38;5;124m\"\u001B[39m, s, err\u001B[38;5;241m.\u001B[39mvalue) \u001B[38;5;28;01mfrom\u001B[39;00m \u001B[38;5;28mNone\u001B[39m\n\u001B[0;32m    356\u001B[0m \u001B[38;5;28;01mreturn\u001B[39;00m obj, end\n",
      "\u001B[1;31mJSONDecodeError\u001B[0m: Expecting value: line 1 column 1 (char 0)"
     ]
    }
   ],
   "source": [
    "with open(\"../data/ensemble_weights.json\", \"r\") as file:\n",
    "    ensemble_weights = json.load(file)"
   ]
  },
  {
   "cell_type": "code",
   "execution_count": null,
   "id": "f149ce13",
   "metadata": {
    "pycharm": {
     "name": "#%%\n"
    }
   },
   "outputs": [],
   "source": []
  }
 ],
 "metadata": {
  "kernelspec": {
   "display_name": "Python 3 (ipykernel)",
   "language": "python",
   "name": "python3"
  },
  "language_info": {
   "codemirror_mode": {
    "name": "ipython",
    "version": 3
   },
   "file_extension": ".py",
   "mimetype": "text/x-python",
   "name": "python",
   "nbconvert_exporter": "python",
   "pygments_lexer": "ipython3",
   "version": "3.9.12"
  }
 },
 "nbformat": 4,
 "nbformat_minor": 5
}